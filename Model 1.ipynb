{
 "cells": [
  {
   "cell_type": "code",
   "execution_count": 1,
   "id": "9218a520",
   "metadata": {},
   "outputs": [
    {
     "name": "stdout",
     "output_type": "stream",
     "text": [
      "Successfully loaded 517401 rows and 2 columns!\n"
     ]
    },
    {
     "data": {
      "text/html": [
       "<div>\n",
       "<style scoped>\n",
       "    .dataframe tbody tr th:only-of-type {\n",
       "        vertical-align: middle;\n",
       "    }\n",
       "\n",
       "    .dataframe tbody tr th {\n",
       "        vertical-align: top;\n",
       "    }\n",
       "\n",
       "    .dataframe thead th {\n",
       "        text-align: right;\n",
       "    }\n",
       "</style>\n",
       "<table border=\"1\" class=\"dataframe\">\n",
       "  <thead>\n",
       "    <tr style=\"text-align: right;\">\n",
       "      <th></th>\n",
       "      <th>file</th>\n",
       "      <th>message</th>\n",
       "    </tr>\n",
       "  </thead>\n",
       "  <tbody>\n",
       "    <tr>\n",
       "      <th>0</th>\n",
       "      <td>allen-p/_sent_mail/1.</td>\n",
       "      <td>Message-ID: &lt;18782981.1075855378110.JavaMail.evans@thyme&gt;\\nDate: Mon, 14 May 2001 16:39:00 -0700...</td>\n",
       "    </tr>\n",
       "    <tr>\n",
       "      <th>1</th>\n",
       "      <td>allen-p/_sent_mail/10.</td>\n",
       "      <td>Message-ID: &lt;15464986.1075855378456.JavaMail.evans@thyme&gt;\\nDate: Fri, 4 May 2001 13:51:00 -0700 ...</td>\n",
       "    </tr>\n",
       "    <tr>\n",
       "      <th>2</th>\n",
       "      <td>allen-p/_sent_mail/100.</td>\n",
       "      <td>Message-ID: &lt;24216240.1075855687451.JavaMail.evans@thyme&gt;\\nDate: Wed, 18 Oct 2000 03:00:00 -0700...</td>\n",
       "    </tr>\n",
       "    <tr>\n",
       "      <th>3</th>\n",
       "      <td>allen-p/_sent_mail/1000.</td>\n",
       "      <td>Message-ID: &lt;13505866.1075863688222.JavaMail.evans@thyme&gt;\\nDate: Mon, 23 Oct 2000 06:13:00 -0700...</td>\n",
       "    </tr>\n",
       "    <tr>\n",
       "      <th>4</th>\n",
       "      <td>allen-p/_sent_mail/1001.</td>\n",
       "      <td>Message-ID: &lt;30922949.1075863688243.JavaMail.evans@thyme&gt;\\nDate: Thu, 31 Aug 2000 05:07:00 -0700...</td>\n",
       "    </tr>\n",
       "  </tbody>\n",
       "</table>\n",
       "</div>"
      ],
      "text/plain": [
       "                       file  \\\n",
       "0     allen-p/_sent_mail/1.   \n",
       "1    allen-p/_sent_mail/10.   \n",
       "2   allen-p/_sent_mail/100.   \n",
       "3  allen-p/_sent_mail/1000.   \n",
       "4  allen-p/_sent_mail/1001.   \n",
       "\n",
       "                                                                                               message  \n",
       "0  Message-ID: <18782981.1075855378110.JavaMail.evans@thyme>\\nDate: Mon, 14 May 2001 16:39:00 -0700...  \n",
       "1  Message-ID: <15464986.1075855378456.JavaMail.evans@thyme>\\nDate: Fri, 4 May 2001 13:51:00 -0700 ...  \n",
       "2  Message-ID: <24216240.1075855687451.JavaMail.evans@thyme>\\nDate: Wed, 18 Oct 2000 03:00:00 -0700...  \n",
       "3  Message-ID: <13505866.1075863688222.JavaMail.evans@thyme>\\nDate: Mon, 23 Oct 2000 06:13:00 -0700...  \n",
       "4  Message-ID: <30922949.1075863688243.JavaMail.evans@thyme>\\nDate: Thu, 31 Aug 2000 05:07:00 -0700...  "
      ]
     },
     "metadata": {},
     "output_type": "display_data"
    },
    {
     "name": "stdout",
     "output_type": "stream",
     "text": [
      "None\n"
     ]
    }
   ],
   "source": [
    "import pandas as pd\n",
    "pd.set_option(\"display.max_rows\", 999)\n",
    "pd.set_option('max_colwidth',100)\n",
    "import numpy as np\n",
    "from IPython.display import display\n",
    "\n",
    "filepath = \"./Dataset/emails.csv\"\n",
    "# Read the data into a pandas dataframe called emails\n",
    "emails = pd.read_csv(filepath)\n",
    "headers = [header for header in emails.columns]\n",
    "print(\"Successfully loaded {} rows and {} columns!\".format(emails.shape[0], emails.shape[1]))\n",
    "print(display(emails.head()))"
   ]
  },
  {
   "cell_type": "code",
   "execution_count": 2,
   "id": "873e5e2b",
   "metadata": {},
   "outputs": [
    {
     "name": "stdout",
     "output_type": "stream",
     "text": [
      "Message-ID: <18782981.1075855378110.JavaMail.evans@thyme>\n",
      "Date: Mon, 14 May 2001 16:39:00 -0700 (PDT)\n",
      "From: phillip.allen@enron.com\n",
      "To: tim.belden@enron.com\n",
      "Subject: \n",
      "Mime-Version: 1.0\n",
      "Content-Type: text/plain; charset=us-ascii\n",
      "Content-Transfer-Encoding: 7bit\n",
      "X-From: Phillip K Allen\n",
      "X-To: Tim Belden <Tim Belden/Enron@EnronXGate>\n",
      "X-cc: \n",
      "X-bcc: \n",
      "X-Folder: \\Phillip_Allen_Jan2002_1\\Allen, Phillip K.\\'Sent Mail\n",
      "X-Origin: Allen-P\n",
      "X-FileName: pallen (Non-Privileged).pst\n",
      "\n",
      "Here is our forecast\n",
      "\n",
      " \n"
     ]
    }
   ],
   "source": [
    "print(emails.loc[0][\"message\"])"
   ]
  },
  {
   "cell_type": "code",
   "execution_count": 3,
   "id": "9ef0843e",
   "metadata": {},
   "outputs": [
    {
     "name": "stdout",
     "output_type": "stream",
     "text": [
      "Successfully retrieved header information!\n"
     ]
    }
   ],
   "source": [
    "import email\n",
    "\n",
    "def insert_value(dictionary, key, value):\n",
    "    if key in dictionary:\n",
    "        values = dictionary.get(key)\n",
    "        values.append(value)\n",
    "        dictionary[key] = values\n",
    "    else:\n",
    "        dictionary[key] = [value]\n",
    "    return dictionary\n",
    "\n",
    "def get_headers(df, header_names):\n",
    "    headers = {}\n",
    "    messages = df[\"message\"]\n",
    "    for message in messages:\n",
    "        e = email.message_from_string(message)\n",
    "        for item in header_names:\n",
    "            header = e.get(item)\n",
    "            insert_value(dictionary = headers, key = item, value = header) \n",
    "    print(\"Successfully retrieved header information!\")\n",
    "    return headers\n",
    "header_names = [\"Date\", \"Subject\", \"X-Folder\", \"X-From\", \"X-To\"]    \n",
    "headers = get_headers(emails, header_names)"
   ]
  },
  {
   "cell_type": "code",
   "execution_count": 4,
   "id": "a3c0078e",
   "metadata": {},
   "outputs": [
    {
     "name": "stdout",
     "output_type": "stream",
     "text": [
      "Successfully retrieved message body from e-mails!\n"
     ]
    }
   ],
   "source": [
    "def get_messages(df):\n",
    "    messages = []\n",
    "    for item in df[\"message\"]:\n",
    "        # Return a message object structure from a string\n",
    "        e = email.message_from_string(item)    \n",
    "        # get message body  \n",
    "        message_body = e.get_payload()\n",
    "        message_body = message_body.lower()\n",
    "        messages.append(message_body)\n",
    "    print(\"Successfully retrieved message body from e-mails!\")\n",
    "    return messages\n",
    "msg_body = get_messages(emails)\n",
    "emails[\"Message-Body\"] = msg_body"
   ]
  },
  {
   "cell_type": "code",
   "execution_count": 5,
   "id": "a0452f38",
   "metadata": {},
   "outputs": [
    {
     "name": "stdout",
     "output_type": "stream",
     "text": [
      "['Phillip K Allen' 'Ina Rangel'\n",
      " 'Multex Investor <1.11913372.-2@multexinvestornetwork.com>'\n",
      " '\"Bloomberg.com\" <messenger@ecm.bloomberg.com>'\n",
      " '\"Arthur O\\'Donnell\" <aod@newsdata.com>' 'critical.notice@Enron.com'\n",
      " 'market-reply@LISTSERV.DOWJONES.COM' 'Rebecca W Cantrell'\n",
      " '\"Earnings.com\" <webmaster@earnings.com>' 'Paul Kaufman']\n"
     ]
    }
   ],
   "source": [
    "x_from = pd.DataFrame(headers[\"X-From\"], columns = [\"X-From\"])\n",
    "print(x_from.iloc[:1000][\"X-From\"].unique()[:10])\n",
    "if \"X-From\" not in emails.columns:\n",
    "    emails = pd.concat([emails, x_from], axis = 1, join = 'inner')"
   ]
  },
  {
   "cell_type": "code",
   "execution_count": 6,
   "id": "cb05e3d2",
   "metadata": {},
   "outputs": [
    {
     "name": "stdout",
     "output_type": "stream",
     "text": [
      "Successfully added new column!\n"
     ]
    }
   ],
   "source": [
    "def add_name(df, column, labels):\n",
    "    new_data = {}\n",
    "    for item in df[column]: \n",
    "        tokens = item.split('/')\n",
    "        for i in range(0, len(labels)):\n",
    "            value = tokens[i]\n",
    "            key = labels[i]\n",
    "            new_data = insert_value(new_data, key, value)        \n",
    "    for key, value in new_data.items():\n",
    "        df[key] = pd.Series(value)\n",
    "    print(\"Successfully added new column!\")\n",
    "    return df\n",
    "emails = add_name(df = emails, column = \"file\", labels = [\"employee\"])"
   ]
  },
  {
   "cell_type": "code",
   "execution_count": 7,
   "id": "915eabfb",
   "metadata": {},
   "outputs": [
    {
     "name": "stdout",
     "output_type": "stream",
     "text": [
      "Here is the emails dataframe after appending all the relevant headers\n"
     ]
    },
    {
     "data": {
      "text/html": [
       "<div>\n",
       "<style scoped>\n",
       "    .dataframe tbody tr th:only-of-type {\n",
       "        vertical-align: middle;\n",
       "    }\n",
       "\n",
       "    .dataframe tbody tr th {\n",
       "        vertical-align: top;\n",
       "    }\n",
       "\n",
       "    .dataframe thead th {\n",
       "        text-align: right;\n",
       "    }\n",
       "</style>\n",
       "<table border=\"1\" class=\"dataframe\">\n",
       "  <thead>\n",
       "    <tr style=\"text-align: right;\">\n",
       "      <th></th>\n",
       "      <th>file</th>\n",
       "      <th>message</th>\n",
       "      <th>Message-Body</th>\n",
       "      <th>X-From</th>\n",
       "      <th>employee</th>\n",
       "      <th>Date</th>\n",
       "      <th>Subject</th>\n",
       "      <th>X-To</th>\n",
       "      <th>X-Folder</th>\n",
       "    </tr>\n",
       "  </thead>\n",
       "  <tbody>\n",
       "    <tr>\n",
       "      <th>0</th>\n",
       "      <td>allen-p/_sent_mail/1.</td>\n",
       "      <td>Message-ID: &lt;18782981.1075855378110.JavaMail.evans@thyme&gt;\\nDate: Mon, 14 May 2001 16:39:00 -0700...</td>\n",
       "      <td>here is our forecast\\n\\n</td>\n",
       "      <td>Phillip K Allen</td>\n",
       "      <td>allen-p</td>\n",
       "      <td>Mon, 14 May 2001 16:39:00 -0700 (PDT)</td>\n",
       "      <td></td>\n",
       "      <td>Tim Belden &lt;Tim Belden/Enron@EnronXGate&gt;</td>\n",
       "      <td>\\Phillip_Allen_Jan2002_1\\Allen, Phillip K.\\'Sent Mail</td>\n",
       "    </tr>\n",
       "  </tbody>\n",
       "</table>\n",
       "</div>"
      ],
      "text/plain": [
       "                    file  \\\n",
       "0  allen-p/_sent_mail/1.   \n",
       "\n",
       "                                                                                               message  \\\n",
       "0  Message-ID: <18782981.1075855378110.JavaMail.evans@thyme>\\nDate: Mon, 14 May 2001 16:39:00 -0700...   \n",
       "\n",
       "                Message-Body           X-From employee  \\\n",
       "0  here is our forecast\\n\\n   Phillip K Allen  allen-p   \n",
       "\n",
       "                                    Date Subject  \\\n",
       "0  Mon, 14 May 2001 16:39:00 -0700 (PDT)           \n",
       "\n",
       "                                       X-To  \\\n",
       "0  Tim Belden <Tim Belden/Enron@EnronXGate>   \n",
       "\n",
       "                                                X-Folder  \n",
       "0  \\Phillip_Allen_Jan2002_1\\Allen, Phillip K.\\'Sent Mail  "
      ]
     },
     "metadata": {},
     "output_type": "display_data"
    },
    {
     "name": "stdout",
     "output_type": "stream",
     "text": [
      "None\n"
     ]
    }
   ],
   "source": [
    "def add_headers(df, header_list):\n",
    "    for label in header_list:\n",
    "        df_new = pd.DataFrame(headers[label], columns = [label])\n",
    "        if label not in df.columns:\n",
    "            df = pd.concat([df, df_new], axis = 1)\n",
    "    return df\n",
    "remaining_headers = [\"Date\", \"Subject\", \"X-To\", \"X-From\", \"X-Folder\"]\n",
    "emails = add_headers(df = emails, header_list = remaining_headers)\n",
    "print(\"Here is the emails dataframe after appending all the relevant headers\")\n",
    "print(display(emails.iloc[:1]))"
   ]
  },
  {
   "cell_type": "code",
   "execution_count": 8,
   "id": "c397a433",
   "metadata": {},
   "outputs": [
    {
     "name": "stdout",
     "output_type": "stream",
     "text": [
      "367283             \\DQUIGLE (Non-Privileged)\\Quigley, Dutch\\Deleted Items\n",
      "484708                          \\Mark_Taylor _Dec_2000\\Notes Folders\\Sent\n",
      "362316           \\Debra_Perlingiere_Dec2000_June2001_2\\Notes Folders\\Sent\n",
      "248754                          \\Steven_Kean_Jan2002\\Kean, Steven J.\\FERC\n",
      "144176              \\MGRIGSB (Non-Privileged)\\Grigsby, Mike\\Deleted Items\n",
      "419140    \\Sara_Shackleton_Dec2000_June2001_2\\Notes Folders\\All documents\n",
      "1717              \\Phillip_Allen_Dec2000\\Notes Folders\\Discussion threads\n",
      "Name: X-Folder, dtype: object\n"
     ]
    }
   ],
   "source": [
    "print(emails[\"X-Folder\"].sample(7))"
   ]
  },
  {
   "cell_type": "code",
   "execution_count": 9,
   "id": "547b7123",
   "metadata": {},
   "outputs": [
    {
     "data": {
      "image/png": "[encoded data removed]",
      "text/plain": [
       "<Figure size 504x576 with 1 Axes>"
      ]
     },
     "metadata": {
      "needs_background": "light"
     },
     "output_type": "display_data"
    }
   ],
   "source": [
    "import seaborn as sns\n",
    "import matplotlib.pyplot as plt\n",
    "%matplotlib inline\n",
    "\n",
    "# dataframe containing counts of every word in the emails dataframe\n",
    "email_count = emails[\"X-Folder\"].value_counts()\n",
    "indices = email_count.index\n",
    "count = pd.DataFrame(email_count, columns = [\"X-Folder\"])\n",
    "count[\"Folder Names\"] = indices\n",
    "#print count.head()\n",
    "\n",
    "def barplot(df, X, Y, figsize, color, orient, ylabel, xlabel, font_scale, rotation):\n",
    "    f, ax = plt.subplots(figsize=figsize)\n",
    "    sns.set_color_codes(\"muted\")\n",
    "    sns.barplot(x = X, y = Y, data = df, color = color, orient = orient)\n",
    "    ax.set(ylabel = ylabel, xlabel = xlabel)\n",
    "    sns.set(font_scale = font_scale)\n",
    "    plt.xticks(rotation = rotation) \n",
    "    plt.show()\n",
    "    \n",
    "barplot(df = count[:40], X = \"X-Folder\", Y = \"Folder Names\", figsize = (7, 8), color = 'b', orient = 'h', ylabel = \"Folders\", xlabel = \"Count\", font_scale = 1.2, rotation = 90)"
   ]
  },
  {
   "cell_type": "code",
   "execution_count": 10,
   "id": "faee9b8b",
   "metadata": {},
   "outputs": [
    {
     "data": {
      "text/plain": [
       "\\ExMerge - Williams III, Bill\\Schedule Crawler             1398\n",
       "\\Williams III, Bill (Non-Privileged)\\Bill Williams III     1022\n",
       "\\ExMerge - Williams III, Bill\\Sent Items                    519\n",
       "\\ExMerge - Williams III, Bill\\Inbox                         137\n",
       "\\ExMerge - Williams III, Bill\\HR                             86\n",
       "\\ExMerge - Williams III, Bill\\SymesEES                       81\n",
       "\\ExMerge - Williams III, Bill\\Human Resources                45\n",
       "\\ExMerge - Williams III, Bill\\Operations Committee/ISAS      19\n",
       "Name: X-Folder, dtype: int64"
      ]
     },
     "execution_count": 10,
     "metadata": {},
     "output_type": "execute_result"
    }
   ],
   "source": [
    "williams = emails[emails[\"employee\"] == \"williams-w3\"]\n",
    "williams[\"X-Folder\"].value_counts()[:8]"
   ]
  },
  {
   "cell_type": "code",
   "execution_count": 11,
   "id": "03fa691d",
   "metadata": {},
   "outputs": [
    {
     "data": {
      "image/png": "[encoded data removed]",
      "text/plain": [
       "<Figure size 720x720 with 1 Axes>"
      ]
     },
     "metadata": {},
     "output_type": "display_data"
    }
   ],
   "source": [
    "import matplotlib.pyplot as plt\n",
    "mail_count = emails[\"employee\"].value_counts()\n",
    "indices = mail_count.index\n",
    "count = pd.DataFrame(mail_count)\n",
    "count.rename(columns = {\"employee\": \"Count\"}, inplace = True)\n",
    "count[\"Employees\"] = indices\n",
    "barplot(df = count[:40], X = \"Count\", Y = \"Employees\", figsize = (10, 10), color = 'b', orient = 'h', ylabel = \"Employees\", xlabel = \"Count\", font_scale = .8, rotation = 90)"
   ]
  },
  {
   "cell_type": "code",
   "execution_count": 12,
   "id": "f4eddd46",
   "metadata": {},
   "outputs": [
    {
     "name": "stdout",
     "output_type": "stream",
     "text": [
      "0    2001-05-14 16:39:00-07:00\n",
      "Name: Date, dtype: object\n"
     ]
    }
   ],
   "source": [
    "# Convert date column to datetime \n",
    "emails[\"Date\"] = pd.to_datetime(emails[\"Date\"])\n",
    "print(emails.iloc[:1][\"Date\"])"
   ]
  },
  {
   "cell_type": "code",
   "execution_count": 13,
   "id": "b5837e07",
   "metadata": {},
   "outputs": [
    {
     "name": "stdout",
     "output_type": "stream",
     "text": [
      "Folder cleaned!\n"
     ]
    }
   ],
   "source": [
    "def preprocess_folder(data):\n",
    "    folders = []\n",
    "    for item in data:\n",
    "        if item == None or item == '':\n",
    "            folders.append(np.nan)\n",
    "        else:\n",
    "            item = item.split(\"\\\\\")[-1]\n",
    "            item = item.lower()\n",
    "            folders.append(item)\n",
    "    print(\"Folder cleaned!\")\n",
    "    return folders      \n",
    "emails[\"X-Folder\"] = preprocess_folder(emails[\"X-Folder\"])   "
   ]
  },
  {
   "cell_type": "code",
   "execution_count": 14,
   "id": "f3481895",
   "metadata": {},
   "outputs": [
    {
     "name": "stdout",
     "output_type": "stream",
     "text": [
      "straw                   8\n",
      "2000 conference         3\n",
      "contacts                2\n",
      "active international    1\n",
      "avaya                   1\n",
      "Name: X-Folder, dtype: int64\n"
     ]
    }
   ],
   "source": [
    "# Folders we can filter out\n",
    "unwanted_folders = [\"all documents\", \"deleted items\", \"discussion threads\", \"sent\", \"deleted Items\", \"inbox\",\n",
    "                   \"sent items\", \"'sent mail\", \"untitled\", \"notes inbox\", \"junk file\", \"calendar\"]\n",
    "\n",
    "# A new dataframe without non-topical folders\n",
    "emails = emails.loc[~emails['X-Folder'].isin(unwanted_folders)]\n",
    "print(emails.iloc[:15][\"X-Folder\"].value_counts())\n"
   ]
  },
  {
   "cell_type": "code",
   "execution_count": 15,
   "id": "98b8e284",
   "metadata": {},
   "outputs": [
    {
     "name": "stdout",
     "output_type": "stream",
     "text": [
      "kean-s         5550\n",
      "kaminski-v     4483\n",
      "kitchen-l      4034\n",
      "farmer-d       3786\n",
      "williams-w3    2775\n",
      "lokay-m        2554\n",
      "taylor-m       2477\n",
      "shapiro-r      2036\n",
      "beck-s         2013\n",
      "Name: employee, dtype: int64\n"
     ]
    }
   ],
   "source": [
    "email_count = dict(emails[\"employee\"].value_counts())\n",
    "reduced_emails = [key for key, val in email_count.items() if val >= 2000]\n",
    "emails = emails.loc[emails['employee'].isin(reduced_emails)]\n",
    "print(emails[\"employee\"].value_counts())"
   ]
  },
  {
   "cell_type": "code",
   "execution_count": 16,
   "id": "1e36b045",
   "metadata": {},
   "outputs": [
    {
     "data": {
      "text/plain": [
       "file            0\n",
       "message         0\n",
       "Message-Body    0\n",
       "X-From          0\n",
       "employee        0\n",
       "Date            0\n",
       "Subject         0\n",
       "X-To            0\n",
       "X-Folder        0\n",
       "dtype: int64"
      ]
     },
     "execution_count": 16,
     "metadata": {},
     "output_type": "execute_result"
    }
   ],
   "source": [
    "emails.isnull().sum()\n",
    "emails.dropna(inplace = True)\n",
    "#print(\"Rows with missing values have been removed\")\n",
    "emails.isnull().sum()"
   ]
  },
  {
   "cell_type": "code",
   "execution_count": 17,
   "id": "2bc033ab",
   "metadata": {},
   "outputs": [],
   "source": [
    "def tokenize(row):\n",
    "    if row == None or row == '':\n",
    "        tokens = \"\"\n",
    "    else:\n",
    "        tokens = row.split(\" \")\n",
    "    return tokens"
   ]
  },
  {
   "cell_type": "code",
   "execution_count": 18,
   "id": "c1d945cc",
   "metadata": {},
   "outputs": [],
   "source": [
    "import re\n",
    "\n",
    "def remove_reg_expressions(row):\n",
    "    tokens = []\n",
    "    try:\n",
    "        for token in row:\n",
    "            token = token.lower()\n",
    "            token = re.sub(r'[\\W\\d]', \" \", token)\n",
    "            tokens.append(token)\n",
    "    except:\n",
    "        token = \"\"\n",
    "        tokens.append(token)\n",
    "    return tokens"
   ]
  },
  {
   "cell_type": "code",
   "execution_count": 19,
   "id": "2e9c8acb",
   "metadata": {},
   "outputs": [
    {
     "name": "stderr",
     "output_type": "stream",
     "text": [
      "[nltk_data] Downloading package stopwords to\n",
      "[nltk_data]     C:\\Users\\dvija\\AppData\\Roaming\\nltk_data...\n",
      "[nltk_data]   Package stopwords is already up-to-date!\n"
     ]
    }
   ],
   "source": [
    "import nltk\n",
    "\n",
    "nltk.download('stopwords')\n",
    "from nltk.corpus import stopwords\n",
    "stopwords = stopwords.words('english')    \n",
    "\n",
    "def stop_word_removal(row):\n",
    "    token = [token for token in row if token not in stopwords]\n",
    "    token = filter(None, token)\n",
    "    return token"
   ]
  },
  {
   "cell_type": "code",
   "execution_count": 20,
   "id": "ca22d739",
   "metadata": {},
   "outputs": [],
   "source": [
    "def assemble_bag(data):\n",
    "    data = data.apply(tokenize)\n",
    "    #data = data.apply(stop_word_removal)\n",
    "    data = data.apply(remove_reg_expressions)\n",
    "    \n",
    "    unique_tokens = []\n",
    "    single_tokens = []\n",
    "\n",
    "    for item in data:\n",
    "        for token in item:\n",
    "            if token in single_tokens:\n",
    "                if token not in unique_tokens:\n",
    "                    unique_tokens.append(token)\n",
    "            else:\n",
    "                single_tokens.append(token)\n",
    "    \n",
    "    df = pd.DataFrame(0, index = np.arange(len(data)), columns = unique_tokens)\n",
    "    \n",
    "    for i, item in enumerate(data):\n",
    "        for token in item:\n",
    "            if token in unique_tokens:\n",
    "                df.iloc[i][token] += 1    \n",
    "    return df"
   ]
  },
  {
   "cell_type": "code",
   "execution_count": 21,
   "id": "51f36363",
   "metadata": {},
   "outputs": [],
   "source": [
    "employee = emails[emails[\"employee\"] == \"kaminski-v\"]"
   ]
  },
  {
   "cell_type": "code",
   "execution_count": 22,
   "id": "9ec55837",
   "metadata": {},
   "outputs": [],
   "source": [
    "def remove_folders(emails, n):\n",
    "    # Returns the folders containing more than 'n' number of e-mails\n",
    "    email_count = dict(emails[\"X-Folder\"].value_counts())\n",
    "    small_folders = [key for key, val in email_count.items() if val <= n]\n",
    "    emails = emails.loc[~emails['X-Folder'].isin(small_folders)]\n",
    "    return emails\n",
    "n = 200\n",
    "employee = remove_folders(employee, n)"
   ]
  },
  {
   "cell_type": "code",
   "execution_count": 23,
   "id": "8ee16de0",
   "metadata": {},
   "outputs": [
    {
     "name": "stdout",
     "output_type": "stream",
     "text": [
      "Randomly selected labels representing our folders\n",
      "[1 2 4 0 3 5 6]\n"
     ]
    }
   ],
   "source": [
    "from sklearn.preprocessing import LabelEncoder\n",
    "\n",
    "def label_encoder(df):\n",
    "    class_le = LabelEncoder()\n",
    "    # apply label encoder on the `Folder` column\n",
    "    y = class_le.fit_transform(df['X-Folder'])\n",
    "    df.loc[:,'y'] = y\n",
    "    return df\n",
    "label_encoder(employee)    \n",
    "print(\"Randomly selected labels representing our folders\")\n",
    "unique_folders = employee[\"y\"].unique()\n",
    "print (unique_folders)"
   ]
  },
  {
   "cell_type": "code",
   "execution_count": 24,
   "id": "483065e1",
   "metadata": {},
   "outputs": [
    {
     "data": {
      "text/html": [
       "<div>\n",
       "<style scoped>\n",
       "    .dataframe tbody tr th:only-of-type {\n",
       "        vertical-align: middle;\n",
       "    }\n",
       "\n",
       "    .dataframe tbody tr th {\n",
       "        vertical-align: top;\n",
       "    }\n",
       "\n",
       "    .dataframe thead th {\n",
       "        text-align: right;\n",
       "    }\n",
       "</style>\n",
       "<table border=\"1\" class=\"dataframe\">\n",
       "  <thead>\n",
       "    <tr style=\"text-align: right;\">\n",
       "      <th></th>\n",
       "      <th>Date</th>\n",
       "      <th>y</th>\n",
       "      <th>X-Folder</th>\n",
       "    </tr>\n",
       "  </thead>\n",
       "  <tbody>\n",
       "    <tr>\n",
       "      <th>210435</th>\n",
       "      <td>1999-12-10 06:43:00-08:00</td>\n",
       "      <td>2</td>\n",
       "      <td>management</td>\n",
       "    </tr>\n",
       "    <tr>\n",
       "      <th>209880</th>\n",
       "      <td>1999-12-10 09:17:00-08:00</td>\n",
       "      <td>1</td>\n",
       "      <td>ene_ect</td>\n",
       "    </tr>\n",
       "    <tr>\n",
       "      <th>221267</th>\n",
       "      <td>1999-12-10 10:46:00-08:00</td>\n",
       "      <td>5</td>\n",
       "      <td>resumes</td>\n",
       "    </tr>\n",
       "    <tr>\n",
       "      <th>210434</th>\n",
       "      <td>1999-12-12 07:22:00-08:00</td>\n",
       "      <td>2</td>\n",
       "      <td>management</td>\n",
       "    </tr>\n",
       "    <tr>\n",
       "      <th>210433</th>\n",
       "      <td>1999-12-13 02:08:00-08:00</td>\n",
       "      <td>2</td>\n",
       "      <td>management</td>\n",
       "    </tr>\n",
       "    <tr>\n",
       "      <th>210431</th>\n",
       "      <td>1999-12-13 23:51:00-08:00</td>\n",
       "      <td>2</td>\n",
       "      <td>management</td>\n",
       "    </tr>\n",
       "    <tr>\n",
       "      <th>210685</th>\n",
       "      <td>1999-12-14 00:17:00-08:00</td>\n",
       "      <td>2</td>\n",
       "      <td>management</td>\n",
       "    </tr>\n",
       "    <tr>\n",
       "      <th>210684</th>\n",
       "      <td>1999-12-14 00:22:00-08:00</td>\n",
       "      <td>2</td>\n",
       "      <td>management</td>\n",
       "    </tr>\n",
       "    <tr>\n",
       "      <th>211067</th>\n",
       "      <td>1999-12-14 02:14:00-08:00</td>\n",
       "      <td>4</td>\n",
       "      <td>projects</td>\n",
       "    </tr>\n",
       "    <tr>\n",
       "      <th>210683</th>\n",
       "      <td>1999-12-14 02:46:00-08:00</td>\n",
       "      <td>2</td>\n",
       "      <td>management</td>\n",
       "    </tr>\n",
       "  </tbody>\n",
       "</table>\n",
       "</div>"
      ],
      "text/plain": [
       "                             Date  y    X-Folder\n",
       "210435  1999-12-10 06:43:00-08:00  2  management\n",
       "209880  1999-12-10 09:17:00-08:00  1     ene_ect\n",
       "221267  1999-12-10 10:46:00-08:00  5     resumes\n",
       "210434  1999-12-12 07:22:00-08:00  2  management\n",
       "210433  1999-12-13 02:08:00-08:00  2  management\n",
       "210431  1999-12-13 23:51:00-08:00  2  management\n",
       "210685  1999-12-14 00:17:00-08:00  2  management\n",
       "210684  1999-12-14 00:22:00-08:00  2  management\n",
       "211067  1999-12-14 02:14:00-08:00  4    projects\n",
       "210683  1999-12-14 02:46:00-08:00  2  management"
      ]
     },
     "metadata": {},
     "output_type": "display_data"
    },
    {
     "name": "stdout",
     "output_type": "stream",
     "text": [
      "None\n"
     ]
    }
   ],
   "source": [
    "def sort(df):   \n",
    "    df = df.sort_values(by = \"Date\", axis = 0)\n",
    "    return df\n",
    "employee = sort(employee)\n",
    "print(display(employee.loc[:,(\"Date\", \"y\", \"X-Folder\")][:10]))"
   ]
  },
  {
   "cell_type": "code",
   "execution_count": 25,
   "id": "1218d3b3",
   "metadata": {},
   "outputs": [],
   "source": [
    "def prepare_features(df):\n",
    "    from_bag = assemble_bag(df[\"X-From\"])\n",
    "    to_bag = assemble_bag(df[\"X-To\"])\n",
    "    message_bag = assemble_bag(df[\"Message-Body\"])\n",
    "    subject_bag = assemble_bag(df[\"Subject\"])\n",
    "    frames = [from_bag, subject_bag, to_bag, message_bag]\n",
    "    X = pd.concat(frames, axis = 1, join = 'inner')\n",
    "    X.drop(labels = [\" \", \"\"], inplace = True, axis = 1)\n",
    "    return X\n",
    "X = prepare_features(employee)"
   ]
  },
  {
   "cell_type": "code",
   "execution_count": 71,
   "id": "09ed4a02",
   "metadata": {},
   "outputs": [
    {
     "data": {
      "text/html": [
       "<div>\n",
       "<style scoped>\n",
       "    .dataframe tbody tr th:only-of-type {\n",
       "        vertical-align: middle;\n",
       "    }\n",
       "\n",
       "    .dataframe tbody tr th {\n",
       "        vertical-align: top;\n",
       "    }\n",
       "\n",
       "    .dataframe thead th {\n",
       "        text-align: right;\n",
       "    }\n",
       "</style>\n",
       "<table border=\"1\" class=\"dataframe\">\n",
       "  <thead>\n",
       "    <tr style=\"text-align: right;\">\n",
       "      <th></th>\n",
       "      <th>shirley</th>\n",
       "      <th>crenshaw</th>\n",
       "      <th>kevin</th>\n",
       "      <th>g</th>\n",
       "      <th>moore</th>\n",
       "      <th>office</th>\n",
       "      <th>of</th>\n",
       "      <th>the</th>\n",
       "      <th>chairman</th>\n",
       "      <th>enron</th>\n",
       "      <th>...</th>\n",
       "      <th>easo</th>\n",
       "      <th>change    energy</th>\n",
       "      <th>formatting</th>\n",
       "      <th>incorrectly</th>\n",
       "      <th>worksheets</th>\n",
       "      <th>you  please</th>\n",
       "      <th>pm to  kaminski</th>\n",
       "      <th>prepare</th>\n",
       "      <th>work  it</th>\n",
       "      <th>maria</th>\n",
       "    </tr>\n",
       "  </thead>\n",
       "  <tbody>\n",
       "    <tr>\n",
       "      <th>0</th>\n",
       "      <td>1</td>\n",
       "      <td>1</td>\n",
       "      <td>0</td>\n",
       "      <td>0</td>\n",
       "      <td>0</td>\n",
       "      <td>0</td>\n",
       "      <td>0</td>\n",
       "      <td>0</td>\n",
       "      <td>0</td>\n",
       "      <td>0</td>\n",
       "      <td>...</td>\n",
       "      <td>0</td>\n",
       "      <td>0</td>\n",
       "      <td>0</td>\n",
       "      <td>0</td>\n",
       "      <td>0</td>\n",
       "      <td>0</td>\n",
       "      <td>0</td>\n",
       "      <td>0</td>\n",
       "      <td>0</td>\n",
       "      <td>0</td>\n",
       "    </tr>\n",
       "    <tr>\n",
       "      <th>1</th>\n",
       "      <td>0</td>\n",
       "      <td>0</td>\n",
       "      <td>0</td>\n",
       "      <td>0</td>\n",
       "      <td>0</td>\n",
       "      <td>0</td>\n",
       "      <td>0</td>\n",
       "      <td>0</td>\n",
       "      <td>0</td>\n",
       "      <td>0</td>\n",
       "      <td>...</td>\n",
       "      <td>0</td>\n",
       "      <td>0</td>\n",
       "      <td>0</td>\n",
       "      <td>0</td>\n",
       "      <td>0</td>\n",
       "      <td>0</td>\n",
       "      <td>0</td>\n",
       "      <td>0</td>\n",
       "      <td>0</td>\n",
       "      <td>0</td>\n",
       "    </tr>\n",
       "    <tr>\n",
       "      <th>2</th>\n",
       "      <td>0</td>\n",
       "      <td>0</td>\n",
       "      <td>0</td>\n",
       "      <td>0</td>\n",
       "      <td>0</td>\n",
       "      <td>0</td>\n",
       "      <td>0</td>\n",
       "      <td>0</td>\n",
       "      <td>0</td>\n",
       "      <td>0</td>\n",
       "      <td>...</td>\n",
       "      <td>0</td>\n",
       "      <td>0</td>\n",
       "      <td>0</td>\n",
       "      <td>0</td>\n",
       "      <td>0</td>\n",
       "      <td>0</td>\n",
       "      <td>0</td>\n",
       "      <td>0</td>\n",
       "      <td>0</td>\n",
       "      <td>0</td>\n",
       "    </tr>\n",
       "    <tr>\n",
       "      <th>3</th>\n",
       "      <td>0</td>\n",
       "      <td>0</td>\n",
       "      <td>1</td>\n",
       "      <td>1</td>\n",
       "      <td>1</td>\n",
       "      <td>0</td>\n",
       "      <td>0</td>\n",
       "      <td>0</td>\n",
       "      <td>0</td>\n",
       "      <td>0</td>\n",
       "      <td>...</td>\n",
       "      <td>0</td>\n",
       "      <td>0</td>\n",
       "      <td>0</td>\n",
       "      <td>0</td>\n",
       "      <td>0</td>\n",
       "      <td>0</td>\n",
       "      <td>0</td>\n",
       "      <td>0</td>\n",
       "      <td>0</td>\n",
       "      <td>0</td>\n",
       "    </tr>\n",
       "    <tr>\n",
       "      <th>4</th>\n",
       "      <td>1</td>\n",
       "      <td>1</td>\n",
       "      <td>0</td>\n",
       "      <td>0</td>\n",
       "      <td>0</td>\n",
       "      <td>0</td>\n",
       "      <td>0</td>\n",
       "      <td>0</td>\n",
       "      <td>0</td>\n",
       "      <td>0</td>\n",
       "      <td>...</td>\n",
       "      <td>0</td>\n",
       "      <td>0</td>\n",
       "      <td>0</td>\n",
       "      <td>0</td>\n",
       "      <td>0</td>\n",
       "      <td>0</td>\n",
       "      <td>0</td>\n",
       "      <td>0</td>\n",
       "      <td>0</td>\n",
       "      <td>0</td>\n",
       "    </tr>\n",
       "    <tr>\n",
       "      <th>...</th>\n",
       "      <td>...</td>\n",
       "      <td>...</td>\n",
       "      <td>...</td>\n",
       "      <td>...</td>\n",
       "      <td>...</td>\n",
       "      <td>...</td>\n",
       "      <td>...</td>\n",
       "      <td>...</td>\n",
       "      <td>...</td>\n",
       "      <td>...</td>\n",
       "      <td>...</td>\n",
       "      <td>...</td>\n",
       "      <td>...</td>\n",
       "      <td>...</td>\n",
       "      <td>...</td>\n",
       "      <td>...</td>\n",
       "      <td>...</td>\n",
       "      <td>...</td>\n",
       "      <td>...</td>\n",
       "      <td>...</td>\n",
       "      <td>...</td>\n",
       "    </tr>\n",
       "    <tr>\n",
       "      <th>2864</th>\n",
       "      <td>0</td>\n",
       "      <td>0</td>\n",
       "      <td>0</td>\n",
       "      <td>0</td>\n",
       "      <td>0</td>\n",
       "      <td>0</td>\n",
       "      <td>0</td>\n",
       "      <td>0</td>\n",
       "      <td>0</td>\n",
       "      <td>0</td>\n",
       "      <td>...</td>\n",
       "      <td>0</td>\n",
       "      <td>0</td>\n",
       "      <td>0</td>\n",
       "      <td>0</td>\n",
       "      <td>0</td>\n",
       "      <td>0</td>\n",
       "      <td>0</td>\n",
       "      <td>0</td>\n",
       "      <td>0</td>\n",
       "      <td>0</td>\n",
       "    </tr>\n",
       "    <tr>\n",
       "      <th>2865</th>\n",
       "      <td>0</td>\n",
       "      <td>0</td>\n",
       "      <td>0</td>\n",
       "      <td>0</td>\n",
       "      <td>0</td>\n",
       "      <td>0</td>\n",
       "      <td>0</td>\n",
       "      <td>0</td>\n",
       "      <td>0</td>\n",
       "      <td>0</td>\n",
       "      <td>...</td>\n",
       "      <td>2</td>\n",
       "      <td>2</td>\n",
       "      <td>1</td>\n",
       "      <td>1</td>\n",
       "      <td>1</td>\n",
       "      <td>0</td>\n",
       "      <td>1</td>\n",
       "      <td>0</td>\n",
       "      <td>0</td>\n",
       "      <td>0</td>\n",
       "    </tr>\n",
       "    <tr>\n",
       "      <th>2866</th>\n",
       "      <td>0</td>\n",
       "      <td>0</td>\n",
       "      <td>0</td>\n",
       "      <td>0</td>\n",
       "      <td>0</td>\n",
       "      <td>0</td>\n",
       "      <td>0</td>\n",
       "      <td>0</td>\n",
       "      <td>0</td>\n",
       "      <td>0</td>\n",
       "      <td>...</td>\n",
       "      <td>0</td>\n",
       "      <td>0</td>\n",
       "      <td>0</td>\n",
       "      <td>0</td>\n",
       "      <td>0</td>\n",
       "      <td>1</td>\n",
       "      <td>1</td>\n",
       "      <td>1</td>\n",
       "      <td>1</td>\n",
       "      <td>0</td>\n",
       "    </tr>\n",
       "    <tr>\n",
       "      <th>2867</th>\n",
       "      <td>0</td>\n",
       "      <td>0</td>\n",
       "      <td>0</td>\n",
       "      <td>0</td>\n",
       "      <td>0</td>\n",
       "      <td>0</td>\n",
       "      <td>0</td>\n",
       "      <td>0</td>\n",
       "      <td>0</td>\n",
       "      <td>0</td>\n",
       "      <td>...</td>\n",
       "      <td>0</td>\n",
       "      <td>0</td>\n",
       "      <td>0</td>\n",
       "      <td>0</td>\n",
       "      <td>0</td>\n",
       "      <td>0</td>\n",
       "      <td>0</td>\n",
       "      <td>0</td>\n",
       "      <td>0</td>\n",
       "      <td>1</td>\n",
       "    </tr>\n",
       "    <tr>\n",
       "      <th>2868</th>\n",
       "      <td>0</td>\n",
       "      <td>0</td>\n",
       "      <td>0</td>\n",
       "      <td>0</td>\n",
       "      <td>0</td>\n",
       "      <td>0</td>\n",
       "      <td>0</td>\n",
       "      <td>0</td>\n",
       "      <td>0</td>\n",
       "      <td>0</td>\n",
       "      <td>...</td>\n",
       "      <td>0</td>\n",
       "      <td>0</td>\n",
       "      <td>0</td>\n",
       "      <td>0</td>\n",
       "      <td>0</td>\n",
       "      <td>0</td>\n",
       "      <td>0</td>\n",
       "      <td>0</td>\n",
       "      <td>0</td>\n",
       "      <td>0</td>\n",
       "    </tr>\n",
       "  </tbody>\n",
       "</table>\n",
       "<p>2869 rows × 29761 columns</p>\n",
       "</div>"
      ],
      "text/plain": [
       "      shirley  crenshaw  kevin  g  moore  office  of  the  chairman  enron  \\\n",
       "0           1         1      0  0      0       0   0    0         0      0   \n",
       "1           0         0      0  0      0       0   0    0         0      0   \n",
       "2           0         0      0  0      0       0   0    0         0      0   \n",
       "3           0         0      1  1      1       0   0    0         0      0   \n",
       "4           1         1      0  0      0       0   0    0         0      0   \n",
       "...       ...       ...    ... ..    ...     ...  ..  ...       ...    ...   \n",
       "2864        0         0      0  0      0       0   0    0         0      0   \n",
       "2865        0         0      0  0      0       0   0    0         0      0   \n",
       "2866        0         0      0  0      0       0   0    0         0      0   \n",
       "2867        0         0      0  0      0       0   0    0         0      0   \n",
       "2868        0         0      0  0      0       0   0    0         0      0   \n",
       "\n",
       "      ...  easo   change    energy  formatting  incorrectly  worksheets  \\\n",
       "0     ...      0                 0           0            0           0   \n",
       "1     ...      0                 0           0            0           0   \n",
       "2     ...      0                 0           0            0           0   \n",
       "3     ...      0                 0           0            0           0   \n",
       "4     ...      0                 0           0            0           0   \n",
       "...   ...    ...               ...         ...          ...         ...   \n",
       "2864  ...      0                 0           0            0           0   \n",
       "2865  ...      2                 2           1            1           1   \n",
       "2866  ...      0                 0           0            0           0   \n",
       "2867  ...      0                 0           0            0           0   \n",
       "2868  ...      0                 0           0            0           0   \n",
       "\n",
       "      you  please   pm to  kaminski   prepare   work  it   maria  \n",
       "0                0                 0         0         0       0  \n",
       "1                0                 0         0         0       0  \n",
       "2                0                 0         0         0       0  \n",
       "3                0                 0         0         0       0  \n",
       "4                0                 0         0         0       0  \n",
       "...            ...               ...       ...       ...     ...  \n",
       "2864             0                 0         0         0       0  \n",
       "2865             0                 1         0         0       0  \n",
       "2866             1                 1         1         1       0  \n",
       "2867             0                 0         0         0       1  \n",
       "2868             0                 0         0         0       0  \n",
       "\n",
       "[2869 rows x 29761 columns]"
      ]
     },
     "metadata": {},
     "output_type": "display_data"
    },
    {
     "name": "stdout",
     "output_type": "stream",
     "text": [
      "None\n",
      "      y  y\n",
      "0     0  0\n",
      "1     0  0\n",
      "2     0  0\n",
      "3     0  0\n",
      "4     0  0\n",
      "...  .. ..\n",
      "2864  0  0\n",
      "2865  0  0\n",
      "2866  0  0\n",
      "2867  0  0\n",
      "2868  0  0\n",
      "\n",
      "[2869 rows x 2 columns]\n",
      "A peek into some of the columns in the features dataframe\n"
     ]
    }
   ],
   "source": [
    "print(display(X))\n",
    "y = X[\"y\"]\n",
    "X.drop(\"y\", axis = 1)\n",
    "print(X[\"y\"])\n",
    "print(\"A peek into some of the columns in the features dataframe\")"
   ]
  },
  {
   "cell_type": "code",
   "execution_count": 73,
   "id": "b64985c8",
   "metadata": {},
   "outputs": [],
   "source": [
    "from sklearn.linear_model import LogisticRegression\n",
    "def split_data(X, employee):\n",
    "    # split data into training and testing sets\n",
    "    training_size = int(len(employee) * 0.8)\n",
    "    X_train = X[:training_size]\n",
    "    X_test = X[training_size:]\n",
    "    y_test = employee[training_size:][\"y\"]\n",
    "    y_train = employee[:training_size][\"y\"]\n",
    "    return X_train, X_test, y_test, training_size\n",
    "X_train, X_test, y_test, training_size = split_data(X, employee)"
   ]
  },
  {
   "cell_type": "code",
   "execution_count": 176,
   "id": "5569edcb",
   "metadata": {
    "scrolled": true
   },
   "outputs": [],
   "source": [
    "from numpy.random import randint\n",
    "import numpy as np\n",
    "\n",
    "def fit(df, training_size, X_train):\n",
    "    models = {}\n",
    "    filtered_folders = []\n",
    "    unique_folders = df[\"y\"].unique()\n",
    "    model = LogisticRegression()\n",
    "    for folder in unique_folders:\n",
    "        y_train = df[:training_size][\"y\"] == folder\n",
    "        X_row = X_train[0:500]\n",
    "        X_final = X_row[0:32]\n",
    "        Y_row = y_train[0:500]\n",
    "        Y_final = Y_row[0:32]\n",
    "        model.fit(X_train[1000:1025], y_train[1000:1025])\n",
    "        models[folder] = model\n",
    "        filtered_folders.append(folder)\n",
    "    testing_probs = pd.DataFrame(columns = filtered_folders)\n",
    "    for folder in filtered_folders:\n",
    "        # Compute probability\n",
    "        testing_probs[folder] = models[folder].predict_proba(X_test)[:,1]\n",
    "    y_test_pred = testing_probs.idxmax(axis = 1)\n",
    "    return models, filtered_folders, model, y_test_pred\n",
    "models, filtered_folders, model, y_test_pred = fit(employee, training_size, X_train)"
   ]
  },
  {
   "cell_type": "code",
   "execution_count": 200,
   "id": "99b66494",
   "metadata": {},
   "outputs": [
    {
     "data": {
      "text/plain": [
       "0.9041811846689896"
      ]
     },
     "execution_count": 200,
     "metadata": {},
     "output_type": "execute_result"
    }
   ],
   "source": [
    "from sklearn.metrics import accuracy_score\n",
    "from sklearn.metrics import f1_score\n",
    "\n",
    "accuracy_score(y_test[0:574], y_test_pred2)\n",
    "f1_score(y_test[0:574], y_test_pred, average='micro')"
   ]
  }
 ],
 "metadata": {
  "kernelspec": {
   "display_name": "Python 3 (ipykernel)",
   "language": "python",
   "name": "python3"
  },
  "language_info": {
   "codemirror_mode": {
    "name": "ipython",
    "version": 3
   },
   "file_extension": ".py",
   "mimetype": "text/x-python",
   "name": "python",
   "nbconvert_exporter": "python",
   "pygments_lexer": "ipython3",
   "version": "3.9.7"
  }
 },
 "nbformat": 4,
 "nbformat_minor": 5
}
